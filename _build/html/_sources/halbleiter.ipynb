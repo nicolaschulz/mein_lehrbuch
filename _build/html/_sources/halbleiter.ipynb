{
 "cells": [
  {
   "cell_type": "markdown",
   "metadata": {},
   "source": [
    "# Leistungshalbleiter\n",
    "Einführende Sätze"
   ]
  },
  {
   "cell_type": "markdown",
   "metadata": {},
   "source": [
    "## Halbleitermaterialien\n",
    "Siizium!"
   ]
  }
 ],
 "metadata": {
  "language_info": {
   "name": "python"
  }
 },
 "nbformat": 4,
 "nbformat_minor": 2
}
