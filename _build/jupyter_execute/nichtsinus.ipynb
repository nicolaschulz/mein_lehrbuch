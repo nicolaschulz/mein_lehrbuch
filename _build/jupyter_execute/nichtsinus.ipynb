{
 "cells": [
  {
   "cell_type": "markdown",
   "id": "6dcaa3e1",
   "metadata": {},
   "source": [
    "# Nichtsinusförmige periodische Grössen\n",
    "Wie wir in den späteren Kapiteln sehen werden, erzeugen leistungselektronische Schaltungen periodische, nichtsinusförmige Strom- und Spannungsverläufe. \n",
    "In diesem Kapitel wird behandelt, wie man solche Größen mathematisch beschreiben kann und wie man elektrotechnische Größen, wie z.B. Wirk-, Blind- und Scheinleistungen berechnen kann."
   ]
  },
  {
   "cell_type": "markdown",
   "id": "214d21c4",
   "metadata": {},
   "source": [
    "## Ein einzelnes periodisches Signal $x(t)$\n",
    "Ein periodisches Signal $x(t)$ mit der Grundperiode $T_1$ kann als **Fourierreihe** wie folgt dargestellt werden. Die Fourierreihe ist eine unendliche Summe von Cosinus- und Sinusfunktionen, deren Frequenzen geradzahlige Vielfache der Grund-Kreisfrequenz $\\omega_1$ sind:"
   ]
  },
  {
   "cell_type": "markdown",
   "id": "b1508164",
   "metadata": {},
   "source": [
    "```{math}\n",
    ":label: eq_fourier\n",
    "x(t) = \\frac{ a_0 }{ 2 } + \\sum_{ \\nu = 1 }^{ \\infty } \\left[ a_\\nu \\cos \\left( \\nu \\omega_1 t \\right) + b_\\nu \\sin \\left( \\nu \\omega_1 t \\right) \\right]"
   ]
  },
  {
   "cell_type": "markdown",
   "id": "265c2ac1",
   "metadata": {},
   "source": [
    "Hierbei ist $\\nu$ die Zahl der Harmonischen, d.h. die Vielfache der Grundfrequenz, $a_\\nu$ und $b_\\nu$ sind die Amplituden der Cosinus- und Sinusfunktion in der Harmonischen $\\nu$. $a_0 / 2$ ist die Amplitude bei Frequenz Null, d.h. der Gleich-Anteil des Signals."
   ]
  },
  {
   "cell_type": "markdown",
   "id": "13c75eec",
   "metadata": {},
   "source": [
    "Der Zusammenhang zwischen Frequenz, Kreisfrequenz und Periodendauer in der Grundfrequenz ($\\nu = 1$) ist dabei:"
   ]
  },
  {
   "cell_type": "markdown",
   "id": "38a75696",
   "metadata": {},
   "source": [
    "```{math}\n",
    ":label: eq_frequenzen\n",
    "\\omega_1 = 2 \\pi f_1 = \\frac{2 \\pi}{T_1}"
   ]
  },
  {
   "cell_type": "markdown",
   "id": "0cece4e2",
   "metadata": {},
   "source": [
    "Wie oben schon geschrieben, entspricht der Summand $a_0 / 2$ dem **Gleichanteil**, d.h. dem linearen Mittelwert des Signals $x(t)$:"
   ]
  },
  {
   "cell_type": "markdown",
   "id": "f1acd622",
   "metadata": {},
   "source": [
    "```{math}\n",
    ":label: eq_mittelwert\n",
    "X_{AV}=\\overline{X}=\\frac{a_0}{2}=\\frac{1}{T_1}\\int_{0}^{T_1}{x(t)dt}=\\frac{1}{2 \\pi}\\int_{0}^{2\\pi}{x(\\omega_1 t)d(\\omega_1 t)}"
   ]
  },
  {
   "cell_type": "markdown",
   "id": "c0b033e8",
   "metadata": {},
   "source": [
    "Bei Gleichstromwerten wird manchmal auf den Index $AV$ und auf das Überstreichen verzichtet (z.B. der Mittelwert des Gleichstromes $i_D (t)$ ist $I_D$). Um Unklarheiten zu vermeiden, sollte jedoch der Index $AV$ stets angegeben werden. Teilweise (aber selten) wird zudem statt des Indexes $AV$ der Index $m$ für \"Mittelwert\" verwendet.\n",
    "\n",
    "Die übrigen Summanden in Gleichung {eq}`eq_fourier` werden als **$\\nu$-te Harmonische** bezeichnet und berechnen sich wie folgt:"
   ]
  },
  {
   "cell_type": "markdown",
   "id": "c502095e",
   "metadata": {},
   "source": [
    "```{math}\n",
    ":label: eq_harmonische\n",
    "a_{\\nu} = \\frac{1}{\\pi} \\int_{0}^{2\\pi}{\\left[ x(\\omega_1 t)\\cdot \\cos(\\nu \\omega_1 t) \\right] d(\\omega_1 t)} \\\\\n",
    "b_{\\nu} = \\frac{1}{\\pi} \\int_{0}^{2\\pi}{\\left[ x(\\omega_1 t)\\cdot \\sin(\\nu \\omega_1 t) \\right] d(\\omega_1 t)}"
   ]
  },
  {
   "cell_type": "markdown",
   "id": "27802951",
   "metadata": {},
   "source": [
    "In gewissen Spezialfällen, welche in der Praxis oft vorkommen, lässt sich die Berechnung der Fourier-Koeffizienten vereinfachen:"
   ]
  },
  {
   "cell_type": "markdown",
   "id": "4ee305ca",
   "metadata": {},
   "source": [
    "**1. $x(t)$ ist eine gerade Funktion: $x(t)=x(-t)$**"
   ]
  },
  {
   "cell_type": "markdown",
   "id": "728e37cb",
   "metadata": {},
   "source": [
    "```{math}\n",
    ":label: eq_gerade\n",
    "a_{\\nu} = \\frac{2}{\\pi} \\int_{0}^{\\pi}{\\left[ x(\\omega_1 t)\\cdot \\cos(\\nu \\omega_1 t) \\right] d(\\omega_1 t)}"
   ]
  },
  {
   "cell_type": "markdown",
   "id": "9efe4d81",
   "metadata": {},
   "source": [
    "<p style=\"text-align: center;\">mit: $b_{\\nu}=0$</p>"
   ]
  },
  {
   "cell_type": "markdown",
   "id": "02c9644c",
   "metadata": {},
   "source": [
    "Sie setzt sich aus geraden Cosinus-Funktionen zusammen, sowie dem Summanden $a_0$."
   ]
  },
  {
   "cell_type": "markdown",
   "id": "8aaa96c8",
   "metadata": {},
   "source": [
    "**2. $x(t)$ ist eine ungerade Funktion: $x(t)=-x(-t)$**"
   ]
  },
  {
   "cell_type": "markdown",
   "id": "4b3de01b",
   "metadata": {},
   "source": [
    "```{math}\n",
    ":label: eq_ungerade\n",
    "b_{\\nu} = \\frac{2}{\\pi} \\int_{0}^{\\pi}{\\left[ x(\\omega_1 t)\\cdot \\sin(\\nu \\omega_1 t) \\right] d(\\omega_1 t)} "
   ]
  },
  {
   "cell_type": "markdown",
   "id": "26c0a1a8",
   "metadata": {},
   "source": [
    "<p style=\"text-align: center;\">mit: $a_{\\nu}=0$</p>"
   ]
  },
  {
   "cell_type": "markdown",
   "id": "1b7d7a26",
   "metadata": {},
   "source": [
    "Sie setzt sich aus ungeraden Sinus-Funktionen zusammen. Da $a_{\\nu}=0$, gilt insbesondere $a_0 = 0$. Das bedeutet, dass ungerade Funktionen den Mittelwert Null besitzen."
   ]
  },
  {
   "cell_type": "markdown",
   "id": "17686052",
   "metadata": {},
   "source": [
    "**3. $x(t)$ ist eine alternierende Funktion: $x(t)=-x(t+T/2)$**"
   ]
  },
  {
   "cell_type": "markdown",
   "id": "f155335f",
   "metadata": {},
   "source": [
    "Die positiven und negativen Halbschwingungen haben die gleiche Form. In den Fourierkoeffizienten $a_{\\nu}$ und $b_{\\nu}$ treten nur *ungerade Ordnungszahlen* $\\nu$ auf. "
   ]
  }
 ],
 "metadata": {
  "kernelspec": {
   "display_name": "Python 3",
   "language": "python",
   "name": "python3"
  },
  "language_info": {
   "codemirror_mode": {
    "name": "ipython",
    "version": 3
   },
   "file_extension": ".py",
   "mimetype": "text/x-python",
   "name": "python",
   "nbconvert_exporter": "python",
   "pygments_lexer": "ipython3",
   "version": "3.12.5"
  }
 },
 "nbformat": 4,
 "nbformat_minor": 5
}