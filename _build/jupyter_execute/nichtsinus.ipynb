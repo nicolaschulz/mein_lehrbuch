{
 "cells": [
  {
   "cell_type": "markdown",
   "id": "7973ff44",
   "metadata": {},
   "source": [
    "# Nichtsinusförmige periodische Größen\n",
    "Wie wir in den späteren Kapiteln sehen werden, erzeugen leistungselektronische Schaltungen periodische, nichtsinusförmige Strom- und Spannungsverläufe. \n",
    "In diesem Kapitel wird behandelt, wie man solche Größen mathematisch beschreiben kann und wie man elektrotechnische Größen, wie z.B. Wirk-, Blind- und Scheinleistungen berechnen kann."
   ]
  },
  {
   "cell_type": "markdown",
   "id": "27b78e84",
   "metadata": {},
   "source": [
    "## Ein einzelnes periodisches Signal $x(t)$\n",
    "Ein periodisches Signal $x(t)$ mit der Grundperiode $T_1$ kann als **Fourierreihe** wie folgt dargestellt werden. Die Fourierreihe ist eine unendliche Summe von Cosinus- und Sinusfunktionen, deren Frequenzen geradzahlige Vielfache der Grund-Kreisfrequenz $\\omega_1$ sind:\n"
   ]
  },
  {
   "cell_type": "code",
   "execution_count": 1,
   "id": "68922ca2",
   "metadata": {},
   "outputs": [
    {
     "ename": "ModuleNotFoundError",
     "evalue": "No module named 'sympy'",
     "output_type": "error",
     "traceback": [
      "\u001b[0;31m---------------------------------------------------------------------------\u001b[0m",
      "\u001b[0;31mModuleNotFoundError\u001b[0m                       Traceback (most recent call last)",
      "Cell \u001b[0;32mIn[1], line 1\u001b[0m\n\u001b[0;32m----> 1\u001b[0m \u001b[38;5;28;01mfrom\u001b[39;00m \u001b[38;5;21;01msympy\u001b[39;00m \u001b[38;5;28;01mimport\u001b[39;00m symbols, cos, sin, pi, summation\n\u001b[1;32m      2\u001b[0m t, omega_1, nu \u001b[38;5;241m=\u001b[39m symbols(\u001b[38;5;124m'\u001b[39m\u001b[38;5;124mt omega_1 nu\u001b[39m\u001b[38;5;124m'\u001b[39m)\n\u001b[1;32m      3\u001b[0m a_nu, b_nu \u001b[38;5;241m=\u001b[39m symbols(\u001b[38;5;124m'\u001b[39m\u001b[38;5;124ma_nu b_nu\u001b[39m\u001b[38;5;124m'\u001b[39m)\n",
      "\u001b[0;31mModuleNotFoundError\u001b[0m: No module named 'sympy'"
     ]
    }
   ],
   "source": [
    "from sympy import symbols, cos, sin, pi, summation\n",
    "t, omega_1, nu = symbols('t omega_1 nu')\n",
    "a_nu, b_nu = symbols('a_nu b_nu')\n",
    "x_t = a_nu/2 + summation(a_nu*cos(nu*omega_1*t) + b_nu*sin(nu*omega_1*t), (nu, 1, 10))\n",
    "x_t"
   ]
  },
  {
   "cell_type": "markdown",
   "id": "b4ed5332",
   "metadata": {},
   "source": [
    "Hierbei ist $\\nu$ die Zahl der Harmonischen, d.h. die Vielfache der Grundfrequenz, $a_\\nu$ und $b_\\nu$ sind die  Amplituden der Cosinus- und Sinusfunktion in der Harmonischen $\\nu$. $a_0 / 2$ ist die Amplitude bei Frequenz Null, d.h. der Gleich-Anteil des Signals.\n",
    "Der Zusammenhang zwischen Frequenz, Kreisfrequenz und Periodendauer in der Grundfrequenz ($\\nu = 1$) ist dabei:\n"
   ]
  },
  {
   "cell_type": "code",
   "execution_count": null,
   "id": "4e687019",
   "metadata": {},
   "outputs": [],
   "source": [
    "f_1, T_1 = symbols('f_1 T_1')\n",
    "omega_1 = 2 * pi * f_1\n",
    "omega_1_eq = 2 * pi / T_1\n",
    "omega_1, omega_1_eq"
   ]
  },
  {
   "cell_type": "markdown",
   "id": "f2b26000",
   "metadata": {},
   "source": [
    "Der Summand $a_0 / 2$ entspricht dem Gleichanteil, d.h. dem linearen Mittelwert des Signals $x(t)$:\n"
   ]
  },
  {
   "cell_type": "code",
   "execution_count": null,
   "id": "e183c143",
   "metadata": {},
   "outputs": [],
   "source": [
    "X_AV = symbols('X_AV')\n",
    "X_AV_eq = 1 / T_1 * summation(x_t, (t, 0, T_1))\n",
    "X_AV_eq"
   ]
  }
 ],
 "metadata": {
  "kernelspec": {
   "display_name": "Python 3",
   "language": "python",
   "name": "python3"
  },
  "language_info": {
   "codemirror_mode": {
    "name": "ipython",
    "version": 3
   },
   "file_extension": ".py",
   "mimetype": "text/x-python",
   "name": "python",
   "nbconvert_exporter": "python",
   "pygments_lexer": "ipython3",
   "version": "3.12.5"
  }
 },
 "nbformat": 4,
 "nbformat_minor": 5
}