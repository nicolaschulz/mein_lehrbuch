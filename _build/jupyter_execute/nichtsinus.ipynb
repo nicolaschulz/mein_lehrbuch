{
 "cells": [
  {
   "cell_type": "markdown",
   "id": "9f96bf90",
   "metadata": {},
   "source": [
    "# Nichtsinusförmige periodische Grössen\n",
    "Wie wir in den späteren Kapiteln sehen werden, erzeugen leistungselektronische Schaltungen periodische, nichtsinusförmige Strom- und Spannungsverläufe. \n",
    "In diesem Kapitel wird behandelt, wie man solche Größen mathematisch beschreiben kann und wie man elektrotechnische Größen, wie z.B. Wirk-, Blind- und Scheinleistungen berechnen kann."
   ]
  },
  {
   "cell_type": "markdown",
   "id": "b22d951d",
   "metadata": {},
   "source": [
    "## Ein einzelnes periodisches Signal $x(t)$\n",
    "Ein periodisches Signal $x(t)$ mit der Grundperiode $T_1$ kann als **Fourierreihe** wie folgt dargestellt werden. Die Fourierreihe ist eine unendliche Summe von Cosinus- und Sinusfunktionen, deren Frequenzen geradzahlige Vielfache der Grund-Kreisfrequenz $\\omega_1$ sind:"
   ]
  },
  {
   "cell_type": "markdown",
   "id": "b1508164",
   "metadata": {},
   "source": [
    "```{math}\n",
    ":label: eq_fourier\n",
    "x(t) = \\frac{ a_0 }{ 2 } + \\sum_{ \\nu = 1 }^{ \\infty } \\left[ a_\\nu \\cos \\left( \\nu \\omega_1 t \\right) + b_\\nu \\sin \\left( \\nu \\omega_1 t \\right) \\right]"
   ]
  },
  {
   "cell_type": "markdown",
   "id": "ba5f311b",
   "metadata": {},
   "source": [
    "Hierbei ist $\\nu$ die Zahl der Harmonischen, d.h. die Vielfache der Grundfrequenz, $a_\\nu$ und $b_\\nu$ sind die Amplituden der Cosinus- und Sinusfunktion in der Harmonischen $\\nu$. $a_0 / 2$ ist die Amplitude bei Frequenz Null, d.h. der Gleich-Anteil des Signals."
   ]
  },
  {
   "cell_type": "markdown",
   "id": "f81b8534",
   "metadata": {},
   "source": [
    "Der Zusammenhang zwischen Frequenz, Kreisfrequenz und Periodendauer in der Grundfrequenz ($\\nu = 1$) ist dabei:"
   ]
  },
  {
   "cell_type": "markdown",
   "id": "38a75696",
   "metadata": {},
   "source": [
    "```{math}\n",
    ":label: eq_frequenzen\n",
    "\\omega_1 = 2 \\pi f_1 = \\frac{2 \\pi}{T_1}"
   ]
  },
  {
   "cell_type": "markdown",
   "id": "0cece4e2",
   "metadata": {},
   "source": [
    "Wie oben schon geschrieben, entspricht der Summand $a_0 / 2$ dem **Gleichanteil**, d.h. dem linearen Mittelwert des Signals $x(t)$:"
   ]
  },
  {
   "cell_type": "markdown",
   "id": "f1acd622",
   "metadata": {},
   "source": [
    "```{math}\n",
    ":label: eq_mittelwert\n",
    "X_{AV}=\\overline{X}=\\frac{a_0}{2}=\\frac{1}{T_1}\\int_{0}^{T_1}{x(t)dt}=\\frac{1}{2 \\pi}\\int_{0}^{2\\pi}{x(\\omega_1 t)d(\\omega_1 t)}"
   ]
  },
  {
   "cell_type": "markdown",
   "id": "c0b033e8",
   "metadata": {},
   "source": [
    "Bei Gleichstromwerten wird manchmal auf den Index $AV$ und auf das Überstreichen verzichtet (z.B. der Mittelwert des Gleichstromes $i_D (t)$ ist $I_D$). Um Unklarheiten zu vermeiden, sollte jedoch der Index $AV$ stets angegeben werden. Teilweise (aber selten) wird zudem statt des Indexes $AV$ der Index $m$ für \"Mittelwert\" verwendet.\n",
    "\n",
    "Die übrigen Summanden in Gleichung {eq}`eq_fourier` werden als **$\\nu$-te Harmonische** bezeichnet und berechnen sich wie folgt:"
   ]
  },
  {
   "cell_type": "markdown",
   "id": "c502095e",
   "metadata": {},
   "source": [
    "```{math}\n",
    ":label: eq_harmonische\n",
    "a_{\\nu} = \\frac{1}{\\pi} \\int_{0}^{2\\pi}{\\left[ x(\\omega_1 t)\\cdot \\cos(\\nu \\omega_1 t) \\right] d(\\omega_1 t)} \\\\\n",
    "b_{\\nu} = \\frac{1}{\\pi} \\int_{0}^{2\\pi}{\\left[ x(\\omega_1 t)\\cdot \\sin(\\nu \\omega_1 t) \\right] d(\\omega_1 t)}"
   ]
  },
  {
   "cell_type": "markdown",
   "id": "27802951",
   "metadata": {},
   "source": [
    "In gewissen Spezialfällen, welche in der Praxis oft vorkommen, lässt sich die Berechnung der Fourier-Koeffizienten vereinfachen:"
   ]
  },
  {
   "cell_type": "markdown",
   "id": "4ee305ca",
   "metadata": {},
   "source": [
    "**1. $x(t)$ ist eine gerade Funktion: $x(t)=x(-t)$**"
   ]
  },
  {
   "cell_type": "markdown",
   "id": "728e37cb",
   "metadata": {},
   "source": [
    "```{math}\n",
    ":label: eq_gerade\n",
    "a_{\\nu} &= \\frac{2}{\\pi} \\int_{0}^{\\pi}{\\left[ x(\\omega_1 t)\\cdot \\cos(\\nu \\omega_1 t) \\right] d(\\omega_1 t)} \\\\\n",
    "b_{\\nu} &= 0"
   ]
  },
  {
   "cell_type": "markdown",
   "id": "02c9644c",
   "metadata": {},
   "source": [
    "Sie setzt sich aus geraden Cosinus-Funktionen zusammen, sowie dem Summanden $a_0$."
   ]
  },
  {
   "cell_type": "markdown",
   "id": "8aaa96c8",
   "metadata": {},
   "source": [
    "**2. $x(t)$ ist eine ungerade Funktion: $x(t)=-x(-t)$**"
   ]
  },
  {
   "cell_type": "markdown",
   "id": "4b3de01b",
   "metadata": {},
   "source": [
    "```{math}\n",
    ":label: eq_ungerade\n",
    "b_{\\nu} &= \\frac{2}{\\pi} \\int_{0}^{\\pi}{\\left[ x(\\omega_1 t)\\cdot \\sin(\\nu \\omega_1 t) \\right] d(\\omega_1 t)} \\\\\n",
    "a_{\\nu} &= 0"
   ]
  },
  {
   "cell_type": "markdown",
   "id": "1b7d7a26",
   "metadata": {},
   "source": [
    "Sie setzt sich aus ungeraden Sinus-Funktionen zusammen. Da $a_{\\nu}=0$, gilt insbesondere $a_0 = 0$. Das bedeutet, dass ungerade Funktionen den Mittelwert Null besitzen."
   ]
  },
  {
   "cell_type": "markdown",
   "id": "10bc56df",
   "metadata": {},
   "source": [
    "Prüfen Sie diese Aussagen mit dem folgenden Widget nach!!"
   ]
  },
  {
   "cell_type": "code",
   "execution_count": 1,
   "id": "c8046668",
   "metadata": {},
   "outputs": [
    {
     "ename": "ModuleNotFoundError",
     "evalue": "No module named 'ipywidgets'",
     "output_type": "error",
     "traceback": [
      "\u001b[0;31m---------------------------------------------------------------------------\u001b[0m",
      "\u001b[0;31mModuleNotFoundError\u001b[0m                       Traceback (most recent call last)",
      "Cell \u001b[0;32mIn[1], line 3\u001b[0m\n\u001b[1;32m      1\u001b[0m \u001b[38;5;28;01mimport\u001b[39;00m \u001b[38;5;21;01mnumpy\u001b[39;00m \u001b[38;5;28;01mas\u001b[39;00m \u001b[38;5;21;01mnp\u001b[39;00m\n\u001b[1;32m      2\u001b[0m \u001b[38;5;28;01mimport\u001b[39;00m \u001b[38;5;21;01mmatplotlib\u001b[39;00m\u001b[38;5;21;01m.\u001b[39;00m\u001b[38;5;21;01mpyplot\u001b[39;00m \u001b[38;5;28;01mas\u001b[39;00m \u001b[38;5;21;01mplt\u001b[39;00m\n\u001b[0;32m----> 3\u001b[0m \u001b[38;5;28;01mfrom\u001b[39;00m \u001b[38;5;21;01mipywidgets\u001b[39;00m \u001b[38;5;28;01mimport\u001b[39;00m FloatSlider, HBox, VBox, Label, Textarea, interactive_output\n\u001b[1;32m      4\u001b[0m \u001b[38;5;28;01mfrom\u001b[39;00m \u001b[38;5;21;01mmatplotlib\u001b[39;00m\u001b[38;5;21;01m.\u001b[39;00m\u001b[38;5;21;01mticker\u001b[39;00m \u001b[38;5;28;01mimport\u001b[39;00m MultipleLocator, FuncFormatter\n\u001b[1;32m      6\u001b[0m \u001b[38;5;66;03m# Funktion zum Plotten und Prüfen der Symmetrie\u001b[39;00m\n",
      "\u001b[0;31mModuleNotFoundError\u001b[0m: No module named 'ipywidgets'"
     ]
    }
   ],
   "source": [
    "import numpy as np\n",
    "import matplotlib.pyplot as plt\n",
    "from ipywidgets import FloatSlider, HBox, VBox, Label, Textarea, interactive_output\n",
    "from matplotlib.ticker import MultipleLocator, FuncFormatter\n",
    "\n",
    "# Funktion zum Plotten und Prüfen der Symmetrie\n",
    "def plot_sine_cosine(amplitude_0, amplitude_sin1, amplitude_cos1, amplitude_sin2, amplitude_cos2, amplitude_sin3, amplitude_cos3):\n",
    "    x = np.linspace(-2 * np.pi, 2 * np.pi, 100)\n",
    "    y = (amplitude_0 + amplitude_sin1 * np.sin(x) + amplitude_cos1 * np.cos(x) \n",
    "         + amplitude_sin2 * np.sin(2 * x) + amplitude_cos2 * np.cos(2 * x)\n",
    "         + amplitude_sin3 * np.sin(3 * x) + amplitude_cos3 * np.cos(3 * x))\n",
    "    \n",
    "    # Berechnung der negativen x-Werte für die Symmetrieprüfung\n",
    "    f_neg_x = (amplitude_0 + amplitude_sin1 * np.sin(-x) + amplitude_cos1 * np.cos(-x) \n",
    "               + amplitude_sin2 * np.sin(2 * (-x)) + amplitude_cos2 * np.cos(2 * (-x))\n",
    "               + amplitude_sin3 * np.sin(3 * (-x)) + amplitude_cos3 * np.cos(3 * (-x)))\n",
    "    \n",
    "    plt.figure(figsize=(8, 4))\n",
    "    \n",
    "    # Überprüfung der Symmetrie und Festlegung der Farbe\n",
    "    if np.allclose(y, f_neg_x):\n",
    "        plt.title(\"Gerade Funktion: f(x) = f(-x)\")\n",
    "        color = 'green'\n",
    "    elif np.allclose(y, -f_neg_x):\n",
    "        plt.title(\"Ungerade Funktion: f(x) = -f(-x)\")\n",
    "        color = 'green'\n",
    "    else:\n",
    "        plt.title(\"Weder gerade noch ungerade\")\n",
    "        color = 'blue'\n",
    "    \n",
    "    plt.plot(x, y, label=f\"a0: {amplitude_0}, Sin1: {amplitude_sin1}, Cos1: {amplitude_cos1}, Sin2: {amplitude_sin2}, Cos2: {amplitude_cos2}, Sin3: {amplitude_sin3}, Cos3: {amplitude_cos3}\", color=color)\n",
    "    \n",
    "    # Hauptachsen fett darstellen\n",
    "    plt.axhline(0, color='black', linewidth=2)  # y=0\n",
    "    plt.axvline(0, color='black', linewidth=2)  # x=0\n",
    "\n",
    "    # Skalierung der x-Achse in Einheiten von pi\n",
    "    ax = plt.gca()\n",
    "    ax.xaxis.set_major_locator(MultipleLocator(base=np.pi))\n",
    "    ax.xaxis.set_major_formatter(FuncFormatter(\n",
    "        lambda val, pos: '{:.0f}$\\\\pi$'.format(val/np.pi) if val != 0 else '0'\n",
    "    ))\n",
    "\n",
    "    plt.ylim(-4, 4)\n",
    "    plt.xlim(-2 * np.pi, 2 * np.pi)\n",
    "    plt.xlabel(\"x\")\n",
    "    plt.ylabel(\"f(x)\")\n",
    "    plt.grid(True)\n",
    "    plt.legend()\n",
    "    plt.show()\n",
    "\n",
    "# Funktion zur Anordnung der Slider mit Labels rechts\n",
    "def labeled_slider(slider_label, min_value, max_value, step, initial_value):\n",
    "    slider = FloatSlider(min=min_value, max=max_value, step=step, value=initial_value)\n",
    "    label = Label(value=slider_label)\n",
    "    return HBox([slider, label]), slider\n",
    "\n",
    "# Korrekte und ausführliche Beschriftungen der Slider\n",
    "slider_a0, slider_a0_val = labeled_slider(r\"Gleichanteil (a0)\", min_value=-2, max_value=2, step=0.1, initial_value=0)\n",
    "slider_a1, slider_a1_val = labeled_slider(r\"Amplitude des 1. Sinus-Terms (a1)\", min_value=0, max_value=2, step=0.1, initial_value=1)\n",
    "slider_b1, slider_b1_val = labeled_slider(r\"Amplitude des 1. Cosinus-Terms (b1)\", min_value=0, max_value=2, step=0.1, initial_value=0)\n",
    "slider_a2, slider_a2_val = labeled_slider(r\"Amplitude des 2. Sinus-Terms (a2)\", min_value=0, max_value=2, step=0.1, initial_value=0)\n",
    "slider_b2, slider_b2_val = labeled_slider(r\"Amplitude des 2. Cosinus-Terms (b2)\", min_value=0, max_value=2, step=0.1, initial_value=0)\n",
    "slider_a3, slider_a3_val = labeled_slider(r\"Amplitude des 3. Sinus-Terms (a3)\", min_value=0, max_value=2, step=0.1, initial_value=0)\n",
    "slider_b3, slider_b3_val = labeled_slider(r\"Amplitude des 3. Cosinus-Terms (b3)\", min_value=0, max_value=2, step=0.1, initial_value=0)\n",
    "\n",
    "# Erklärender Text\n",
    "explanation_text = Textarea(\n",
    "    value=\"Die dargestellte Funktion f(x) ist die Summe von Sinus- und Cosinusfunktionen von der 0. bis zur 3. Harmoniaschen. \\n\" \n",
    "          \"Verwenden Sie die Schieberegler, um die Amplituden der einzelnen Sinus- und Cosinusfunktionen anzupassen.\\n\"\n",
    "          \"Das Widget zeigt an, ob die Funktion gerade, ungerade oder weder noch ist.\",\n",
    "    disabled=True,\n",
    "    layout={'width': '300px', 'height': '192px'} \n",
    ")\n",
    "\n",
    "# Interaktive Plot-Funktion\n",
    "def update_plot(a0, a1, b1, a2, b2, a3, b3):\n",
    "    plot_sine_cosine(a0, a1, b1, a2, b2, a3, b3)\n",
    "\n",
    "# Layout mit Slidern und Textfeld\n",
    "ui = HBox([VBox([slider_a0, slider_a1, slider_b1, slider_a2, slider_b2, slider_a3, slider_b3]), explanation_text])\n",
    "\n",
    "# Interaktive Ausgabe\n",
    "interactive_plot = interactive_output(update_plot, {\n",
    "    'a0': slider_a0_val, 'a1': slider_a1_val, 'b1': slider_b1_val,\n",
    "    'a2': slider_a2_val, 'b2': slider_b2_val, 'a3': slider_a3_val, 'b3': slider_b3_val\n",
    "})\n",
    "\n",
    "# Anzeige der UI-Komponenten\n",
    "display(ui, interactive_plot)\n"
   ]
  },
  {
   "cell_type": "markdown",
   "id": "17686052",
   "metadata": {},
   "source": [
    "**3. $x(t)$ ist eine alternierende Funktion: $x(t)=-x(t+T/2)$**"
   ]
  },
  {
   "cell_type": "markdown",
   "id": "f155335f",
   "metadata": {},
   "source": [
    "Die positiven und negativen Halbschwingungen haben die gleiche Form. In den Fourierkoeffizienten $a_{\\nu}$ und $b_{\\nu}$ treten nur *ungerade Ordnungszahlen* $\\nu$ auf. "
   ]
  },
  {
   "cell_type": "markdown",
   "id": "df3bd130",
   "metadata": {},
   "source": [
    "Oft wird das Signal als **Linienspektrum** dargestellt, getrennt nach Amplituden- und Phasenspektrum. Amplitude $\\hat{X}_{\\nu}$ und Phase $\\phi_{\\nu}$ berechnen sich für eine Harmonische $\\nu$ aus den Summanden $a_{\\nu}$ und $b_{\\nu}$ wie folgt:"
   ]
  },
  {
   "cell_type": "markdown",
   "id": "297cb0bf",
   "metadata": {},
   "source": [
    "```{math}\n",
    ":label: eq_scheitelwert_phase_nu\n",
    "\\hat{X}_{\\nu} &= \\hat{X}_{\\nu ,p}=\\sqrt{a_{\\nu}^2 +° b_{\\nu}^2} \\\\\n",
    "\\phi_{\\nu} &= \\arctan \\left( \\frac{a_{\\nu}}{b_{\\nu}} \\right)"
   ]
  },
  {
   "cell_type": "markdown",
   "id": "c6e3da15",
   "metadata": {},
   "source": [
    "Generell wird der **Scheitel- oder Spitzenwert** eines Signals gegenüber Null mit dem Index $p$ (für engl. *\"peak\"*) bezeichnet, teilweise wird dafür auch das Dach-Symbol verwendet. Damit lässt sich das Signal $x(t)$ statt durch eine Summe von Cosinus- und Sinusfunktionen auch durch eine Summe von Sinusfunktionen mit jeweiliger Phasenlage $\\phi_{\\nu}$ darstellen:"
   ]
  },
  {
   "cell_type": "markdown",
   "id": "cf7b03f2",
   "metadata": {},
   "source": [
    "```{math}\n",
    ":label: eq_xt_sinus_phase\n",
    "x(t)=X_{AV} + \\sum_{\\nu = 1}^{\\infty}{X_{\\nu ,p} \\cdot \\sin \\left( \\nu \\omega_{\\nu} t + \\phi_{\\nu} \\right) }"
   ]
  },
  {
   "cell_type": "markdown",
   "id": "9e4dcf3f",
   "metadata": {},
   "source": [
    "Der **Grundschwingungsanteil** des Signals $x(t)$ wird als $X_{\\nu =1,p}$ bezeichnet.\n",
    "Das **Amplitudenspektrum** ${X}^{\\prime}_{\\nu ,p}$ wird normalerweise in der $y$-Achse logarithmisch in Dezibel (dB) dargestellt, da die Amplituden sich oft stark voneinander unterscheiden (Abbildung XYZ):"
   ]
  },
  {
   "cell_type": "markdown",
   "id": "04d36949",
   "metadata": {},
   "source": [
    "```{math}\n",
    ":label: eq_amplitudenspektrum\n",
    "\\hat{X}^{\\prime}_{\\nu} &= {X}^{\\prime}_{\\nu ,p} = 20 \\cdot \\mathop{\\log_{10}} \\left( \\frac{X_{\\nu ,p}}{X_B} \\right) \\\\\n",
    "x_{(dB)} &= 20 \\cdot \\log (x) \\hspace{0.5cm} \\textrm{mit} \\hspace{0.3cm} x=10^{x_{(dB)}/20}"
   ]
  },
  {
   "cell_type": "markdown",
   "id": "0243a525",
   "metadata": {},
   "source": [
    "Für Ströme und Spannungen wird in Gleichung {eq}`eq_amplitudenspektrum` der Faktor 20 verwendet, für Leistungen hingegen der Faktor 10. Der Bezugswert $X_B$ ist frei wählbar; oft wird der Effektivwert gemäss Gleichung XYZ verwendet."
   ]
  },
  {
   "cell_type": "markdown",
   "id": "1d2e167c",
   "metadata": {},
   "source": [
    "```{figure} figures/Amplitudenspektrum.png\n",
    "---\n",
    "width: 70%\n",
    "name: fig_amplitudenspektrum\n",
    "---\n",
    "Beispiel für ein Amplitudenspektrum, wie es in der Leistungselektronik auftreten kann. Oben: Rechteckförmiger Signalverlauf $x(t)$. Unten: Logarithmisches Amplitudenspektrum von $x(t)$. "
   ]
  }
 ],
 "metadata": {
  "kernelspec": {
   "display_name": "Python 3",
   "language": "python",
   "name": "python3"
  },
  "language_info": {
   "codemirror_mode": {
    "name": "ipython",
    "version": 3
   },
   "file_extension": ".py",
   "mimetype": "text/x-python",
   "name": "python",
   "nbconvert_exporter": "python",
   "pygments_lexer": "ipython3",
   "version": "3.12.5"
  }
 },
 "nbformat": 4,
 "nbformat_minor": 5
}