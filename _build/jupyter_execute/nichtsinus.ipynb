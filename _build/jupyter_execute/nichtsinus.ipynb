{
 "cells": [
  {
   "cell_type": "markdown",
   "id": "dc7e58f0",
   "metadata": {},
   "source": [
    "# Nichtsinusförmige periodische Größen\n",
    "Wie wir in den späteren Kapiteln sehen werden, erzeugen leistungselektronische Schaltungen periodische, nichtsinusförmige Strom- und Spannungsverläufe. \n",
    "In diesem Kapitel wird behandelt, wie man solche Größen mathematisch beschreiben kann und wie man elektrotechnische Größen, wie z.B. Wirk-, Blind- und Scheinleistungen berechnen kann."
   ]
  },
  {
   "cell_type": "markdown",
   "id": "5d7bebab",
   "metadata": {},
   "source": [
    "## Ein einzelnes periodisches Signal $x(t)$\n",
    "Ein periodisches Signal $x(t)$ mit der Grundperiode $T_1$ kann als **Fourierreihe** wie folgt dargestellt werden. Die Fourierreihe ist eine unendliche Summe von Cosinus- und Sinusfunktionen, deren Frequenzen geradzahlige Vielfache der Grund-Kreisfrequenz $\\omega_1$ sind:"
   ]
  },
  {
   "cell_type": "markdown",
   "id": "a527ab79",
   "metadata": {},
   "source": [
    "<table style=\"width:100%; border-collapse: collapse;\">\n",
    "  <tr>\n",
    "    <td style=\"text-align: left; vertical-align: middle;\">\n",
    "      $$ \n",
    "      x(t) = \\frac{ a_0 }{ 2 } + \\sum_{ \\nu = 1 }^{ \\infty } \\left[ a_\\nu \\cos \\left( \\nu \\omega_1 t \\right) + b_\\nu \\sin \\left( \\nu \\omega_1 t \\right) \\right] \n",
    "      $$\n",
    "    </td>\n",
    "    <td style=\"text-align: right; vertical-align: middle;\">\n",
    "      <a id=\"eq1\"></a>(1) - <a href=\"#eq1\">Link zur Gleichung</a>\n",
    "    </td>\n",
    "  </tr>\n",
    "</table>"
   ]
  },
  {
   "cell_type": "markdown",
   "id": "432e53ee",
   "metadata": {},
   "source": [
    "Hierbei ist $\\nu$ die Zahl der Harmonischen, d.h. die Vielfache der Grundfrequenz, $a_\\nu$ und $b_\\nu$ sind die Amplituden der Cosinus- und Sinusfunktion in der Harmonischen $\\nu$. $a_0 / 2$ ist die Amplitude bei Frequenz Null, d.h. der Gleich-Anteil des Signals."
   ]
  },
  {
   "cell_type": "markdown",
   "id": "3a100f0b",
   "metadata": {},
   "source": [
    "Der Zusammenhang zwischen Frequenz, Kreisfrequenz und Periodendauer in der Grundfrequenz ($\\nu = 1$) ist dabei:\n",
    "\n",
    "<a id='eq2'></a>\n",
    "$$ \\omega_1 = 2 \\pi f_1 = \\frac{2 \\pi}{T_1} $$\n",
    "Gleichung (2) - [Link zur Gleichung](#eq2)"
   ]
  },
  {
   "cell_type": "markdown",
   "id": "e4a659bd",
   "metadata": {},
   "source": [
    "Der Summand $a_0 / 2$ entspricht dem Gleichanteil, d.h. dem linearen Mittelwert des Signals $x(t)$:\n",
    "\n",
    "<a id='eq3'></a>\n",
    "$$ X_{AV} = \\frac{a_0}{2} = \\frac{1}{T_1} \\int_{0}^{T_1}{x(t)dt} = \\frac{1}{2 \\pi} \\int_{0}^{2\\pi}{x(\\omega_1 t) d(\\omega_1 t)} $$\n",
    "Gleichung (3) - [Link zur Gleichung](#eq3)"
   ]
  },
  {
   "cell_type": "markdown",
   "id": "0cece4e2",
   "metadata": {},
   "source": [
    "Wie oben schon geschrieben, entspricht der Summand $a_0 / 2$ dem **Gleichanteil**, d.h. dem linearen Mittelwert des Signals $x(t)$:\n",
    "<a id='eq4'></a>\n",
    "$$ X_{AV}=\\overline{X}=\\frac{a_0}{2}=\\frac{1}{T_1}\\int_{0}^{T_1}{x(t)dt}=\\frac{1}{2 \\pi}\\int_{0}^{2\\pi}{x(\\omega_1 t)d(\\omega_1 t)} $$\n",
    "Gleichung (3) - [Link zur Gleichung](#eq4)"
   ]
  }
 ],
 "metadata": {
  "kernelspec": {
   "display_name": "Python 3",
   "language": "python",
   "name": "python3"
  },
  "language_info": {
   "codemirror_mode": {
    "name": "ipython",
    "version": 3
   },
   "file_extension": ".py",
   "mimetype": "text/x-python",
   "name": "python",
   "nbconvert_exporter": "python",
   "pygments_lexer": "ipython3",
   "version": "3.12.5"
  }
 },
 "nbformat": 4,
 "nbformat_minor": 5
}