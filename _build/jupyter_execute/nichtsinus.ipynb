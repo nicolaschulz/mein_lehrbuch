{
 "cells": [
  {
   "cell_type": "markdown",
   "id": "f753aeda",
   "metadata": {},
   "source": [
    "# Nichtsinusförmige periodische Größen\n",
    "Wie wir in den späteren Kapiteln sehen werden, erzeugen leistungselektronische Schaltungen periodische, nichtsinusförmige Strom- und Spannungsverläufe. \n",
    "In diesem Kapitel wird behandelt, wie man solche Größen mathematisch beschreiben kann und wie man elektrotechnische Größen, wie z.B. Wirk-, Blind- und Scheinleistungen berechnen kann."
   ]
  },
  {
   "cell_type": "markdown",
   "id": "bc237964",
   "metadata": {},
   "source": [
    "## Ein einzelnes periodisches Signal $x(t)$\n",
    "Ein periodisches Signal $x(t)$ mit der Grundperiode $T_1$ kann als **Fourierreihe** wie folgt dargestellt werden. Die Fourierreihe ist eine unendliche Summe von Cosinus- und Sinusfunktionen, deren Frequenzen geradzahlige Vielfache der Grund-Kreisfrequenz $\\omega_1$ sind:"
   ]
  },
  {
   "cell_type": "markdown",
   "id": "b1508164",
   "metadata": {},
   "source": [
    "```{math}\n",
    ":label: eq_fourier\n",
    "x(t) = \\frac{ a_0 }{ 2 } + \\sum_{ \\nu = 1 }^{ \\infty } \\left[ a_\\nu \\cos \\left( \\nu \\omega_1 t \\right) + b_\\nu \\sin \\left( \\nu \\omega_1 t \\right) \\right]"
   ]
  },
  {
   "cell_type": "markdown",
   "id": "db379682",
   "metadata": {},
   "source": [
    "Hierbei ist $\\nu$ die Zahl der Harmonischen, d.h. die Vielfache der Grundfrequenz, $a_\\nu$ und $b_\\nu$ sind die Amplituden der Cosinus- und Sinusfunktion in der Harmonischen $\\nu$. $a_0 / 2$ ist die Amplitude bei Frequenz Null, d.h. der Gleich-Anteil des Signals."
   ]
  },
  {
   "cell_type": "markdown",
   "id": "3ef3f885",
   "metadata": {},
   "source": [
    "Der Zusammenhang zwischen Frequenz, Kreisfrequenz und Periodendauer in der Grundfrequenz ($\\nu = 1$) ist dabei:"
   ]
  },
  {
   "cell_type": "markdown",
   "id": "38a75696",
   "metadata": {},
   "source": [
    "```{math}\n",
    ":label: eq_frequenzen\n",
    "\\omega_1 = 2 \\pi f_1 = \\frac{2 \\pi}{T_1}"
   ]
  },
  {
   "cell_type": "markdown",
   "id": "0cece4e2",
   "metadata": {},
   "source": [
    "Wie oben schon geschrieben, entspricht der Summand $a_0 / 2$ dem **Gleichanteil**, d.h. dem linearen Mittelwert des Signals $x(t)$:"
   ]
  },
  {
   "cell_type": "markdown",
   "id": "f1acd622",
   "metadata": {},
   "source": [
    "```{math}\n",
    ":label: eq_mittelwert\n",
    "X_{AV}=\\overline{X}=\\frac{a_0}{2}=\\frac{1}{T_1}\\int_{0}^{T_1}{x(t)dt}=\\frac{1}{2 \\pi}\\int_{0}^{2\\pi}{x(\\omega_1 t)d(\\omega_1 t)}"
   ]
  },
  {
   "cell_type": "markdown",
   "id": "c0b033e8",
   "metadata": {},
   "source": [
    "Bei Gleichstromwerten wird manchmal auf den Index $AV$ und auf das Überstreichen verzichtet (z.B. der Mittelwert des Gleichstromes $i_D (t)$ ist $I_D$). Um Unklarheiten zu vermeiden, sollte jedoch der Index $AV$ stets angegeben werden. Teilweise (aber selten) wird zudem statt des Indexes $AV$ der Index $m$ für \"Mittelwert\" verwendet.\n",
    "\n",
    "Die übrigen Summanden in Gl. :eq:`eq_fourier` werden als **$\\nu$-te Harmonische** bezeichnet und berechnen sich wie folgt:"
   ]
  }
 ],
 "metadata": {
  "kernelspec": {
   "display_name": "Python 3",
   "language": "python",
   "name": "python3"
  },
  "language_info": {
   "codemirror_mode": {
    "name": "ipython",
    "version": 3
   },
   "file_extension": ".py",
   "mimetype": "text/x-python",
   "name": "python",
   "nbconvert_exporter": "python",
   "pygments_lexer": "ipython3",
   "version": "3.12.5"
  }
 },
 "nbformat": 4,
 "nbformat_minor": 5
}